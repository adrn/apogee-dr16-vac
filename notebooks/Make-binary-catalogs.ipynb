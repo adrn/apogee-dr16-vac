{
 "cells": [
  {
   "cell_type": "markdown",
   "metadata": {},
   "source": [
    "Here we produce two two-body system catalogs from filtering the Value Added Catalog:\n",
    "* master catalog of samples produced from a cut on the log-evidence ratio\n",
    "* master catalog of samples produced from a cut on $K$, i.e. from parameter estimation"
   ]
  },
  {
   "cell_type": "code",
   "execution_count": 1,
   "metadata": {},
   "outputs": [],
   "source": [
    "import os\n",
    "import shutil\n",
    "\n",
    "import astropy.table as at\n",
    "from astropy.constants import G\n",
    "import astropy.units as u\n",
    "import h5py\n",
    "import matplotlib as mpl\n",
    "import matplotlib.pyplot as plt\n",
    "%matplotlib inline\n",
    "import numpy as np\n",
    "from tqdm import tqdm\n",
    "import thejoker as tj\n",
    "import tables as tb\n",
    "\n",
    "from hq.config import Config\n",
    "from hq.data import get_rvdata"
   ]
  },
  {
   "cell_type": "code",
   "execution_count": 27,
   "metadata": {},
   "outputs": [],
   "source": [
    "def fast_mf(P, K, e):\n",
    "    \"\"\"Binary mass function.\"\"\"\n",
    "    mf_circ = P * K**3 / (2*np.pi * G)\n",
    "    return mf_circ.to(u.Msun) * (1 - e**2)**1.5"
   ]
  },
  {
   "cell_type": "code",
   "execution_count": 3,
   "metadata": {},
   "outputs": [],
   "source": [
    "c = Config.from_run_name('dr16')"
   ]
  },
  {
   "cell_type": "code",
   "execution_count": 4,
   "metadata": {},
   "outputs": [],
   "source": [
    "metadata = at.QTable.read(c.metadata_path)"
   ]
  },
  {
   "cell_type": "code",
   "execution_count": 5,
   "metadata": {},
   "outputs": [],
   "source": [
    "allstar, allvisit = c.load_alldata()"
   ]
  },
  {
   "cell_type": "code",
   "execution_count": 6,
   "metadata": {},
   "outputs": [],
   "source": [
    "os.makedirs('../catalogs', exist_ok=True)"
   ]
  },
  {
   "cell_type": "markdown",
   "metadata": {},
   "source": [
    "Copy big results files to node:"
   ]
  },
  {
   "cell_type": "code",
   "execution_count": 9,
   "metadata": {},
   "outputs": [],
   "source": [
    "node_paths = dict()\n",
    "paths = [c.joker_results_path, c.mcmc_results_path, os.path.join(c.run_path, 'thejoker-control.hdf5')]\n",
    "path_names = ['joker_results', 'mcmc_results', 'control_results']\n",
    "for name, path in zip(path_names, paths):\n",
    "    basename = os.path.split(path)[1]\n",
    "    new_path = f'/dev/shm/{basename}'\n",
    "    node_paths[name] = new_path\n",
    "    if not os.path.exists(new_path):\n",
    "        shutil.copy2(path, new_path)"
   ]
  },
  {
   "cell_type": "markdown",
   "metadata": {},
   "source": [
    "# Evidence ratio catalog"
   ]
  },
  {
   "cell_type": "markdown",
   "metadata": {},
   "source": [
    "First produce the sub-selected metadata file:"
   ]
  },
  {
   "cell_type": "code",
   "execution_count": 118,
   "metadata": {},
   "outputs": [],
   "source": [
    "ev_ratio = np.array(metadata['kepler_ln_evidence'] - metadata['constant_ln_evidence'])\n",
    "ll_ratio = np.array(metadata['max_unmarginalized_ln_likelihood'] - metadata['robust_constant_ln_likelihood'])"
   ]
  },
  {
   "cell_type": "code",
   "execution_count": 137,
   "metadata": {},
   "outputs": [
    {
     "data": {
      "text/plain": [
       "22979"
      ]
     },
     "execution_count": 137,
     "metadata": {},
     "output_type": "execute_result"
    }
   ],
   "source": [
    "# mask = (ev_ratio > 3) & (ll_ratio > 3)\n",
    "mask = (ev_ratio > 3) & (ll_ratio > 1)\n",
    "mask.sum()"
   ]
  },
  {
   "cell_type": "code",
   "execution_count": 138,
   "metadata": {},
   "outputs": [
    {
     "data": {
      "text/plain": [
       "10459"
      ]
     },
     "execution_count": 138,
     "metadata": {},
     "output_type": "execute_result"
    }
   ],
   "source": [
    "((ev_ratio > 5) != (ll_ratio > 5)).sum()"
   ]
  },
  {
   "cell_type": "code",
   "execution_count": 139,
   "metadata": {},
   "outputs": [
    {
     "data": {
      "text/plain": [
       "(26536, 26036)"
      ]
     },
     "execution_count": 139,
     "metadata": {},
     "output_type": "execute_result"
    }
   ],
   "source": [
    "(ev_ratio > 3).sum(), (ll_ratio > 3).sum()"
   ]
  },
  {
   "cell_type": "code",
   "execution_count": 145,
   "metadata": {
    "scrolled": false
   },
   "outputs": [],
   "source": [
    "# apogee_ids = metadata[mask]['APOGEE_ID']\n",
    "# for apid in apogee_ids[10:20]:\n",
    "#     visits = allvisit[allvisit['APOGEE_ID'] == apid]\n",
    "#     data = get_rvdata(visits)\n",
    "    \n",
    "#     plt.figure()\n",
    "#     _ = data.plot()\n",
    "#     plt.title('r={:.2f} r2={:.2f}'.format(ratio[metadata['APOGEE_ID'] == apid][0],\n",
    "#                                           ratio2[metadata['APOGEE_ID'] == apid][0]))"
   ]
  },
  {
   "cell_type": "code",
   "execution_count": 147,
   "metadata": {},
   "outputs": [],
   "source": [
    "metadata[mask].write('../catalogs/evidence_ratio_metadata.fits', overwrite=True)"
   ]
  },
  {
   "cell_type": "markdown",
   "metadata": {},
   "source": [
    "Now collect all samplings:"
   ]
  },
  {
   "cell_type": "code",
   "execution_count": 151,
   "metadata": {},
   "outputs": [],
   "source": [
    "evidance_catalog_samples_file = '../catalogs/evidence_ratio_samples.hdf5'"
   ]
  },
  {
   "cell_type": "code",
   "execution_count": 209,
   "metadata": {},
   "outputs": [
    {
     "name": "stderr",
     "output_type": "stream",
     "text": [
      "100%|██████████| 22979/22979 [06:56<00:00, 55.22it/s] \n"
     ]
    }
   ],
   "source": [
    "with tb.open_file(evidance_catalog_samples_file, 'w') as cat_f:\n",
    "    with tb.open_file(c.mcmc_results_path, 'r') as mcmc_f, tb.open_file(c.joker_results_path, 'r') as joker_f:\n",
    "        table = None\n",
    "        for i, row in enumerate(tqdm(metadata[mask])):\n",
    "            apid = row['APOGEE_ID']\n",
    "\n",
    "            if row['mcmc_success']:\n",
    "                f = mcmc_f\n",
    "            else:\n",
    "                f = joker_f\n",
    "            \n",
    "            if table is None:\n",
    "                table = at.Table(f.root[f'{apid}/samples'].read())\n",
    "                table['APOGEE_ID'] = np.array([apid] * len(table)).astype('S18')\n",
    "                table['m_f'] = fast_mf(table['P']*u.day, table['K']*u.km/u.s, table['e']).to_value(u.Msun)\n",
    "                cat_f.create_table('/', 'samples', obj=table.as_array())\n",
    "                \n",
    "            else:\n",
    "                table = at.Table(f.root[f'{apid}/samples'].read())\n",
    "                table['APOGEE_ID'] = np.array([apid] * len(table)).astype('S18')\n",
    "                table['m_f'] = fast_mf(table['P']*u.day, table['K']*u.km/u.s, table['e']).to_value(u.Msun)\n",
    "                cat_f.root['samples'].append(table.as_array())"
   ]
  },
  {
   "cell_type": "markdown",
   "metadata": {},
   "source": [
    "# K cut catalog\n",
    "\n",
    "Here we make a cut on the 5th percentile sample in lnK, motivated by the control sample:"
   ]
  },
  {
   "cell_type": "code",
   "execution_count": 10,
   "metadata": {},
   "outputs": [],
   "source": [
    "with h5py.File(node_paths['mcmc_results'], mode='r') as mcmc_f:\n",
    "    mcmc_apogee_ids = [key for key in mcmc_f.keys()]"
   ]
  },
  {
   "cell_type": "code",
   "execution_count": 12,
   "metadata": {
    "scrolled": true
   },
   "outputs": [
    {
     "name": "stderr",
     "output_type": "stream",
     "text": [
      "100%|██████████| 231194/231194 [15:37<00:00, 246.72it/s]\n",
      "/mnt/home/apricewhelan/anaconda3/envs/hq/lib/python3.7/site-packages/ipykernel_launcher.py:24: RuntimeWarning: invalid value encountered in log10\n"
     ]
    }
   ],
   "source": [
    "percentiles = [1, 5, 50, 95, 99]\n",
    "\n",
    "percentile_apogee_ids = []\n",
    "control_percentiles = []\n",
    "apogee_percentiles = []\n",
    "with tb.open_file(node_paths['control_results'], mode='r') as control_f:\n",
    "    with tb.open_file(node_paths['joker_results'], mode='r') as joker_f:\n",
    "        for apid in tqdm(metadata['APOGEE_ID'][~metadata['mcmc_success']]):\n",
    "            try:\n",
    "                control_lnK = np.log10(control_f.get_node(f'/{apid}/samples').read(field='K'))\n",
    "                joker_lnK = np.log10(joker_f.get_node(f'/{apid}/samples').read(field='K'))\n",
    "            except:\n",
    "                print(apid)\n",
    "                continue\n",
    "            \n",
    "            control_percentiles.append(np.percentile(control_lnK, percentiles))\n",
    "            apogee_percentiles.append(np.percentile(joker_lnK, percentiles))\n",
    "            percentile_apogee_ids.append(apid)\n",
    "            \n",
    "    with tb.open_file(node_paths['mcmc_results'], mode='r') as mcmc_f:\n",
    "        for apid in metadata['APOGEE_ID'][metadata['mcmc_success']]:\n",
    "            try:\n",
    "                control_lnK = np.log10(control_f.get_node(f'/{apid}/samples').read(field='K'))\n",
    "                mcmc_lnK = np.log10(mcmc_f.get_node(f'/{apid}/samples').read(field='K'))\n",
    "            except:\n",
    "                print(apid)\n",
    "                continue\n",
    "            \n",
    "            control_percentiles.append(np.percentile(control_lnK, percentiles))\n",
    "            apogee_percentiles.append(np.percentile(joker_lnK, percentiles))\n",
    "            percentile_apogee_ids.append(apid)\n",
    "            \n",
    "percentile_apogee_ids = np.array(percentile_apogee_ids)\n",
    "control_percentiles = np.array(control_percentiles)\n",
    "apogee_percentiles = np.array(apogee_percentiles)"
   ]
  },
  {
   "cell_type": "code",
   "execution_count": 13,
   "metadata": {},
   "outputs": [
    {
     "data": {
      "text/plain": [
       "(232531, 232531, 232531)"
      ]
     },
     "execution_count": 13,
     "metadata": {},
     "output_type": "execute_result"
    }
   ],
   "source": [
    "len(control_percentiles), len(apogee_percentiles), len(percentile_apogee_ids)"
   ]
  },
  {
   "cell_type": "code",
   "execution_count": 15,
   "metadata": {},
   "outputs": [],
   "source": [
    "np.savez('../catalogs/percentiles.npz', \n",
    "         percentiles=percentiles, \n",
    "         control=control_percentiles, \n",
    "         samples=apogee_percentiles,\n",
    "         apogee_id=percentile_apogee_ids)"
   ]
  },
  {
   "cell_type": "code",
   "execution_count": 16,
   "metadata": {},
   "outputs": [
    {
     "data": {
      "text/plain": [
       "(5, 20000.0)"
      ]
     },
     "execution_count": 16,
     "metadata": {},
     "output_type": "execute_result"
    },
    {
     "data": {
      "image/png": "[encoded data removed]",
      "text/plain": [
       "<Figure size 432x288 with 1 Axes>"
      ]
     },
     "metadata": {
      "image/png": {
       "height": 252,
       "width": 384
      },
      "needs_background": "light"
     },
     "output_type": "display_data"
    }
   ],
   "source": [
    "fig, ax = plt.subplots(1, 1, figsize=(6, 4))\n",
    "\n",
    "bins = np.linspace(-2, 2, 128)\n",
    "ax.hist(apogee_percentiles[:, 1], bins=bins, color='tab:blue')\n",
    "ax.hist(control_percentiles[:, 1], bins=bins, color='tab:orange', \n",
    "        histtype='step', linestyle='-', linewidth=1);\n",
    "\n",
    "ax.set_yscale('log')\n",
    "ax.set_ylim(5, 2e4)"
   ]
  },
  {
   "cell_type": "code",
   "execution_count": 22,
   "metadata": {},
   "outputs": [
    {
     "name": "stdout",
     "output_type": "stream",
     "text": [
      "841 22955\n",
      "0.036636898279242\n"
     ]
    }
   ],
   "source": [
    "cut = 0.1\n",
    "n_control = (control_percentiles[:, 1] > cut).sum()\n",
    "\n",
    "percentile_mask = apogee_percentiles[:, 1] > cut\n",
    "n_apogee = percentile_mask.sum()\n",
    "\n",
    "print(n_control, n_apogee)\n",
    "print(n_control / n_apogee)"
   ]
  },
  {
   "cell_type": "code",
   "execution_count": 29,
   "metadata": {
    "scrolled": false
   },
   "outputs": [],
   "source": [
    "# apogee_ids = percentile_apogee_ids[percentile_mask]\n",
    "# for apid in apogee_ids[:10]:\n",
    "#     visits = allvisit[allvisit['APOGEE_ID'] == apid]\n",
    "    \n",
    "#     with h5py.File(node_paths['joker_results'], mode='r') as joker_f:\n",
    "#         samples = tj.JokerSamples.read(joker_f[apid])\n",
    "    \n",
    "#     data = get_rvdata(visits)\n",
    "    \n",
    "#     plt.figure()\n",
    "#     tj.plot_rv_curves(samples=samples, data=data)"
   ]
  },
  {
   "cell_type": "code",
   "execution_count": 24,
   "metadata": {},
   "outputs": [],
   "source": [
    "metadata[percentile_mask].write('../catalogs/percentile_metadata.fits', overwrite=True)"
   ]
  },
  {
   "cell_type": "code",
   "execution_count": 25,
   "metadata": {},
   "outputs": [],
   "source": [
    "percentile_samples_file = '../catalogs/percentile_samples.hdf5'"
   ]
  },
  {
   "cell_type": "code",
   "execution_count": 28,
   "metadata": {},
   "outputs": [
    {
     "name": "stderr",
     "output_type": "stream",
     "text": [
      "100%|██████████| 22955/22955 [09:00<00:00, 42.43it/s] \n"
     ]
    }
   ],
   "source": [
    "with tb.open_file(percentile_samples_file, 'w') as cat_f:\n",
    "    with tb.open_file(c.mcmc_results_path, 'r') as mcmc_f, tb.open_file(c.joker_results_path, 'r') as joker_f:\n",
    "        table = None\n",
    "        for i, row in enumerate(tqdm(metadata[percentile_mask])):\n",
    "            apid = row['APOGEE_ID']\n",
    "\n",
    "            if row['mcmc_success']:\n",
    "                f = mcmc_f\n",
    "            else:\n",
    "                f = joker_f\n",
    "            \n",
    "            if table is None:\n",
    "                table = at.Table(f.root[f'{apid}/samples'].read())\n",
    "                table['APOGEE_ID'] = np.array([apid] * len(table)).astype('S18')\n",
    "                table['m_f'] = fast_mf(table['P']*u.day, table['K']*u.km/u.s, table['e']).to_value(u.Msun)\n",
    "                cat_f.create_table('/', 'samples', obj=table.as_array())\n",
    "                \n",
    "            else:\n",
    "                table = at.Table(f.root[f'{apid}/samples'].read())\n",
    "                table['APOGEE_ID'] = np.array([apid] * len(table)).astype('S18')\n",
    "                table['m_f'] = fast_mf(table['P']*u.day, table['K']*u.km/u.s, table['e']).to_value(u.Msun)\n",
    "                cat_f.root['samples'].append(table.as_array())"
   ]
  },
  {
   "cell_type": "code",
   "execution_count": null,
   "metadata": {},
   "outputs": [],
   "source": []
  }
 ],
 "metadata": {
  "kernelspec": {
   "display_name": "conda-hq",
   "language": "python",
   "name": "conda-hq"
  },
  "language_info": {
   "codemirror_mode": {
    "name": "ipython",
    "version": 3
   },
   "file_extension": ".py",
   "mimetype": "text/x-python",
   "name": "python",
   "nbconvert_exporter": "python",
   "pygments_lexer": "ipython3",
   "version": "3.7.5"
  }
 },
 "nbformat": 4,
 "nbformat_minor": 2
}
