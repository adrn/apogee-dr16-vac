{
 "cells": [
  {
   "cell_type": "code",
   "execution_count": 38,
   "metadata": {},
   "outputs": [],
   "source": [
    "import os\n",
    "\n",
    "import astropy.table as at\n",
    "from astropy.constants import G\n",
    "import astropy.units as u\n",
    "import h5py\n",
    "import matplotlib as mpl\n",
    "import matplotlib.pyplot as plt\n",
    "%matplotlib inline\n",
    "import numpy as np\n",
    "from tqdm.notebook import tqdm\n",
    "import thejoker as tj\n",
    "import tables as tb\n",
    "\n",
    "from twobody.transforms import PeKi_to_a\n",
    "\n",
    "from hq.config import Config\n",
    "from hq.data import get_rvdata\n",
    "from hq.physics_helpers import period_at_surface, stellar_radius\n",
    "\n",
    "from helpers import load_samples"
   ]
  },
  {
   "cell_type": "code",
   "execution_count": 27,
   "metadata": {},
   "outputs": [],
   "source": [
    "apw = at.Table.read('../catalogs/lnK0.0_logL4.6_metadata_gaia_starhorse.fits')\n",
    "\n",
    "gold = at.QTable(at.Table.read('../catalogs/gold_sample.fits').filled())\n",
    "bimodal = at.Table.read('../catalogs/bimodal.fits').filled()\n",
    "bimodal = at.QTable(bimodal[bimodal['LOGG'] > -0.5], masked=False)\n",
    "\n",
    "gold = gold[((gold['n_visits'] - gold['NVISITS']) > -2) & (gold['LOGG'] < 1)]\n",
    "bimodal = bimodal[((bimodal['n_visits'] - bimodal['NVISITS']) > -2) & (bimodal['LOGG'] < 1)]"
   ]
  },
  {
   "cell_type": "code",
   "execution_count": 29,
   "metadata": {},
   "outputs": [
    {
     "data": {
      "text/plain": [
       "(25, 74, 37)"
      ]
     },
     "execution_count": 29,
     "metadata": {},
     "output_type": "execute_result"
    }
   ],
   "source": [
    "len(gold), len(bimodal), len(bimodal)//2"
   ]
  },
  {
   "cell_type": "code",
   "execution_count": 30,
   "metadata": {},
   "outputs": [],
   "source": [
    "gold['Psurf'] = period_at_surface(gold['mass']*u.Msun, gold['LOGG'], \n",
    "                                  e=gold['MAP_e'], M2=0.5*u.Msun)\n",
    "bimodal['Psurf'] = period_at_surface(bimodal['mass']*u.Msun, bimodal['LOGG'], \n",
    "                                     e=bimodal['MAP_e'], M2=0.5*u.Msun)"
   ]
  },
  {
   "cell_type": "code",
   "execution_count": 37,
   "metadata": {},
   "outputs": [],
   "source": [
    "for row in gold[gold['MAP_P'] < gold['Psurf']]:\n",
    "    break"
   ]
  },
  {
   "cell_type": "code",
   "execution_count": null,
   "metadata": {},
   "outputs": [],
   "source": []
  },
  {
   "cell_type": "code",
   "execution_count": null,
   "metadata": {},
   "outputs": [],
   "source": []
  },
  {
   "cell_type": "code",
   "execution_count": null,
   "metadata": {},
   "outputs": [],
   "source": []
  }
 ],
 "metadata": {
  "kernelspec": {
   "display_name": "Python [conda env:hq]",
   "language": "python",
   "name": "conda-env-hq-py"
  },
  "language_info": {
   "codemirror_mode": {
    "name": "ipython",
    "version": 3
   },
   "file_extension": ".py",
   "mimetype": "text/x-python",
   "name": "python",
   "nbconvert_exporter": "python",
   "pygments_lexer": "ipython3",
   "version": "3.7.4"
  },
  "toc": {
   "base_numbering": 1,
   "nav_menu": {},
   "number_sections": true,
   "sideBar": true,
   "skip_h1_title": false,
   "title_cell": "Table of Contents",
   "title_sidebar": "Contents",
   "toc_cell": false,
   "toc_position": {},
   "toc_section_display": true,
   "toc_window_display": false
  }
 },
 "nbformat": 4,
 "nbformat_minor": 4
}
