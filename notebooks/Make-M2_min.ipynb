{
 "cells": [
  {
   "cell_type": "code",
   "execution_count": 1,
   "metadata": {},
   "outputs": [],
   "source": [
    "import os\n",
    "import shutil\n",
    "\n",
    "import astropy.table as at\n",
    "from astropy.constants import G\n",
    "import astropy.units as u\n",
    "import h5py\n",
    "import matplotlib as mpl\n",
    "import matplotlib.pyplot as plt\n",
    "%matplotlib inline\n",
    "import numpy as np\n",
    "from tqdm import tqdm\n",
    "import thejoker as tj\n",
    "import tables as tb\n",
    "from schwimmbad import MultiPool\n",
    "\n",
    "from hq.config import Config\n",
    "from hq.data import get_rvdata\n",
    "\n",
    "from scipy.stats import truncnorm as _truncnorm\n",
    "def truncnorm(mu, sigma, clip_a, clip_b):\n",
    "    a, b = (clip_a-mu)/sigma, (clip_b-mu)/sigma\n",
    "    return _truncnorm(loc=mu, scale=sigma, a=a, b=b)"
   ]
  },
  {
   "cell_type": "code",
   "execution_count": 2,
   "metadata": {},
   "outputs": [],
   "source": [
    "with MultiPool() as pool:\n",
    "    pool_size = pool.size"
   ]
  },
  {
   "cell_type": "code",
   "execution_count": 3,
   "metadata": {},
   "outputs": [],
   "source": [
    "def fast_m2_min(m1, mf):\n",
    "    return (2*mf + np.power(2,0.6666666666666666)*\n",
    "      np.power(mf*(27*pow(m1,2) + 18*m1*mf + 2*np.power(mf,2) + \n",
    "          3*np.sqrt(3)*np.sqrt(np.power(m1,3)*(27*m1 + 4*mf))),0.3333333333333333) + \n",
    "     (2*mf*(6*m1 + mf))/\n",
    "      np.power((27*np.power(m1,2)*mf)/2. + 9*m1*np.power(mf,2) + np.power(mf,3) + \n",
    "        (3*np.sqrt(3)*mf*np.sqrt(np.power(m1,3)*(27*m1 + 4*mf)))/2.,0.3333333333333333))/6."
   ]
  },
  {
   "cell_type": "code",
   "execution_count": 4,
   "metadata": {},
   "outputs": [],
   "source": [
    "c = Config.from_run_name('dr16-random')"
   ]
  },
  {
   "cell_type": "code",
   "execution_count": 5,
   "metadata": {},
   "outputs": [],
   "source": [
    "allstar, allvisit = c.load_alldata()"
   ]
  },
  {
   "cell_type": "markdown",
   "metadata": {},
   "source": [
    "---"
   ]
  },
  {
   "cell_type": "code",
   "execution_count": 6,
   "metadata": {},
   "outputs": [],
   "source": [
    "metadata = at.QTable.read(c.metadata_path)"
   ]
  },
  {
   "cell_type": "markdown",
   "metadata": {},
   "source": [
    "APW cross-match to Gaia from 2MASS ID:"
   ]
  },
  {
   "cell_type": "code",
   "execution_count": 7,
   "metadata": {},
   "outputs": [],
   "source": [
    "if not os.path.exists('../catalogs/dr16_gaia_starhorse_metadata.fits'):\n",
    "    gaia = at.Table.read('/mnt/home/apricewhelan/data/APOGEE_DR16/allStar-r12-gaiadr2.fits')\n",
    "    _, idx = np.unique(gaia['apogee_id'], return_index=True)\n",
    "    gaia = gaia[idx]\n",
    "    gaia.rename_column('apogee_id', 'APOGEE_ID')\n",
    "\n",
    "    for col in gaia.colnames:\n",
    "        gaia[col].unit = None\n",
    "\n",
    "    master = at.join(master, gaia, keys='APOGEE_ID')\n",
    "\n",
    "    # Stellar masses from StarHorse2019: https://data.aip.de/projects/starhorse2019.html\n",
    "\n",
    "    tbl = at.Table()\n",
    "    tbl['source_id'] = np.load('/mnt/home/apricewhelan/data/starhorse/all-source_id.npz')['arr_0']\n",
    "    tbl['mass'] = np.load('/mnt/home/apricewhelan/data/starhorse/all-mass50.npz')['arr_0']\n",
    "\n",
    "    err1 = tbl['mass'] - np.load('/mnt/home/apricewhelan/data/starhorse/all-mass16.npz')['arr_0']\n",
    "    err2 = np.load('/mnt/home/apricewhelan/data/starhorse/all-mass84.npz')['arr_0'] - tbl['mass']\n",
    "    tbl['mass_err'] = np.max([err1, err2], axis=0)\n",
    "\n",
    "    pre_idx = np.isin(tbl['source_id'], master['source_id'])\n",
    "\n",
    "    print(len(master))\n",
    "    master = at.join(metadata, allstar, keys='APOGEE_ID')\n",
    "    master = at.join(master, tbl[pre_idx], keys='source_id', join_type='left')\n",
    "    master['mass'] = master['mass'].filled(np.nan)\n",
    "    print(len(master))\n",
    "\n",
    "    master.write('../catalogs/dr16_gaia_starhorse_metadata.fits', overwrite=True)"
   ]
  },
  {
   "cell_type": "code",
   "execution_count": 8,
   "metadata": {},
   "outputs": [],
   "source": [
    "master = at.QTable.read('../catalogs/dr16_gaia_starhorse_metadata.fits')"
   ]
  },
  {
   "cell_type": "code",
   "execution_count": 9,
   "metadata": {},
   "outputs": [
    {
     "data": {
      "text/plain": [
       "231220"
      ]
     },
     "execution_count": 9,
     "metadata": {},
     "output_type": "execute_result"
    }
   ],
   "source": [
    "len(master)"
   ]
  },
  {
   "cell_type": "code",
   "execution_count": 10,
   "metadata": {},
   "outputs": [
    {
     "data": {
      "image/png": "[encoded data removed]",
      "text/plain": [
       "<Figure size 432x432 with 1 Axes>"
      ]
     },
     "metadata": {
      "image/png": {
       "height": 361,
       "width": 384
      },
      "needs_background": "light"
     },
     "output_type": "display_data"
    }
   ],
   "source": [
    "plt.hist(master['mass'], bins=np.linspace(0, 5, 64));\n",
    "plt.yscale('log')"
   ]
  },
  {
   "cell_type": "markdown",
   "metadata": {},
   "source": [
    "### Now load stars that pass the evidence ratio cut:"
   ]
  },
  {
   "cell_type": "code",
   "execution_count": 11,
   "metadata": {},
   "outputs": [],
   "source": [
    "name = 'lnK0.0_logL4.6'"
   ]
  },
  {
   "cell_type": "code",
   "execution_count": 12,
   "metadata": {},
   "outputs": [
    {
     "data": {
      "text/plain": [
       "9425259"
      ]
     },
     "execution_count": 12,
     "metadata": {},
     "output_type": "execute_result"
    }
   ],
   "source": [
    "all_samples = at.Table.read(f'../catalogs/{name}_samples.hdf5')\n",
    "all_samples['APOGEE_ID'] = all_samples['APOGEE_ID'].astype(str)\n",
    "len(all_samples)"
   ]
  },
  {
   "cell_type": "code",
   "execution_count": 13,
   "metadata": {},
   "outputs": [
    {
     "data": {
      "text/plain": [
       "17682"
      ]
     },
     "execution_count": 13,
     "metadata": {},
     "output_type": "execute_result"
    }
   ],
   "source": [
    "master_cut = master[np.isin(master['APOGEE_ID'], all_samples['APOGEE_ID'])\n",
    "                    & np.isfinite(master['mass'])]\n",
    "len(master_cut)"
   ]
  },
  {
   "cell_type": "code",
   "execution_count": 14,
   "metadata": {},
   "outputs": [],
   "source": [
    "from thejoker.multiproc_helpers import batch_tasks\n",
    "tasks = batch_tasks(len(master_cut), pool_size, arr=master_cut)"
   ]
  },
  {
   "cell_type": "code",
   "execution_count": 16,
   "metadata": {},
   "outputs": [],
   "source": [
    "percentiles = [1, 5, 16, 50, 84, 95, 99]"
   ]
  },
  {
   "cell_type": "code",
   "execution_count": 18,
   "metadata": {},
   "outputs": [],
   "source": [
    "def worker(task):\n",
    "    rows, id_ = task\n",
    "    \n",
    "    tmp = []\n",
    "    m2_mins = dict()\n",
    "    for row in rows:\n",
    "        samples = all_samples[all_samples['APOGEE_ID'] == row['APOGEE_ID']]\n",
    "\n",
    "        if len(samples) < 10:\n",
    "            n_m1 = 128\n",
    "        else:\n",
    "            n_m1 = 4\n",
    "\n",
    "        m1_samples = truncnorm(row['mass'], row['mass_err'], 0, 1e2).rvs(size=(len(samples), n_m1)).ravel() * u.Msun\n",
    "        mf = np.repeat(samples['m_f'][:, None], n_m1, axis=1).ravel() * u.Msun\n",
    "        # m2_min = get_m2_min(m1_samples, mf)\n",
    "        m2_min = fast_m2_min(m1_samples.value, mf.value)\n",
    "        tmp.append(np.nanpercentile(m2_min, percentiles))\n",
    "        m2_mins[row['APOGEE_ID']] = m2_min\n",
    "        \n",
    "    return tmp, m2_mins"
   ]
  },
  {
   "cell_type": "code",
   "execution_count": 19,
   "metadata": {},
   "outputs": [
    {
     "name": "stderr",
     "output_type": "stream",
     "text": [
      "/mnt/home/apricewhelan/anaconda3/envs/hq/lib/python3.7/site-packages/numpy/lib/nanfunctions.py:1371: RuntimeWarning: All-NaN slice encountered\n",
      "  overwrite_input=overwrite_input, interpolation=interpolation\n",
      "/mnt/home/apricewhelan/anaconda3/envs/hq/lib/python3.7/site-packages/numpy/lib/nanfunctions.py:1371: RuntimeWarning: All-NaN slice encountered\n",
      "  overwrite_input=overwrite_input, interpolation=interpolation\n",
      "/mnt/home/apricewhelan/anaconda3/envs/hq/lib/python3.7/site-packages/numpy/lib/nanfunctions.py:1371: RuntimeWarning: All-NaN slice encountered\n",
      "  overwrite_input=overwrite_input, interpolation=interpolation\n"
     ]
    }
   ],
   "source": [
    "m2_min_percentiles = []\n",
    "all_m2_min = dict()\n",
    "with MultiPool() as pool:\n",
    "    for perc, allvals in pool.map(worker, tasks):\n",
    "        m2_min_percentiles.append(perc)\n",
    "        all_m2_min.update(allvals)\n",
    "        \n",
    "m2_min_percentiles = np.array([l for x in m2_min_percentiles for l in x ])"
   ]
  },
  {
   "cell_type": "code",
   "execution_count": 20,
   "metadata": {},
   "outputs": [],
   "source": [
    "for i, val in enumerate(percentiles):\n",
    "    master_cut[f'm2_min_{val}'] = m2_min_percentiles[:, i] * u.Msun"
   ]
  },
  {
   "cell_type": "code",
   "execution_count": 21,
   "metadata": {},
   "outputs": [],
   "source": [
    "master_cut.write(f'../catalogs/{name}_metadata_gaia_starhorse.fits', overwrite=True)"
   ]
  },
  {
   "cell_type": "code",
   "execution_count": 22,
   "metadata": {},
   "outputs": [
    {
     "data": {
      "text/plain": [
       "657"
      ]
     },
     "execution_count": 22,
     "metadata": {},
     "output_type": "execute_result"
    }
   ],
   "source": [
    "((master_cut['m2_min_95'] < 0.1*u.Msun) & (master_cut['n_visits'] >= 5)).sum()"
   ]
  },
  {
   "cell_type": "code",
   "execution_count": 23,
   "metadata": {},
   "outputs": [
    {
     "data": {
      "text/plain": [
       "47"
      ]
     },
     "execution_count": 23,
     "metadata": {},
     "output_type": "execute_result"
    }
   ],
   "source": [
    "(master_cut['m2_min_5'] > 1.5*u.Msun).sum()"
   ]
  },
  {
   "cell_type": "code",
   "execution_count": 24,
   "metadata": {},
   "outputs": [
    {
     "data": {
      "text/plain": [
       "34"
      ]
     },
     "execution_count": 24,
     "metadata": {},
     "output_type": "execute_result"
    }
   ],
   "source": [
    "((master_cut['m2_min_5'] > 1.5*u.Msun) & (master_cut['m2_min_5'] > master_cut['mass']*u.Msun)).sum()"
   ]
  },
  {
   "cell_type": "code",
   "execution_count": null,
   "metadata": {},
   "outputs": [],
   "source": []
  }
 ],
 "metadata": {
  "kernelspec": {
   "display_name": "conda-hq",
   "language": "python",
   "name": "conda-hq"
  },
  "language_info": {
   "codemirror_mode": {
    "name": "ipython",
    "version": 3
   },
   "file_extension": ".py",
   "mimetype": "text/x-python",
   "name": "python",
   "nbconvert_exporter": "python",
   "pygments_lexer": "ipython3",
   "version": "3.7.5"
  }
 },
 "nbformat": 4,
 "nbformat_minor": 2
}
