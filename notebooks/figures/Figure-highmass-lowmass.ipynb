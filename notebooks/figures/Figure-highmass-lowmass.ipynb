{
 "cells": [
  {
   "cell_type": "code",
   "execution_count": 12,
   "metadata": {},
   "outputs": [],
   "source": [
    "import os\n",
    "\n",
    "import astropy.table as at\n",
    "from astropy.constants import G\n",
    "import astropy.units as u\n",
    "import h5py\n",
    "import matplotlib as mpl\n",
    "import matplotlib.pyplot as plt\n",
    "%matplotlib inline\n",
    "import numpy as np\n",
    "from tqdm.notebook import tqdm\n",
    "import thejoker as tj\n",
    "import tables as tb\n",
    "\n",
    "from gala.mpl_style import laguna, hesperia\n",
    "\n",
    "from twobody.transforms import PeKi_to_a\n",
    "\n",
    "from hq.config import Config\n",
    "from hq.data import get_rvdata\n",
    "from hq.physics_helpers import period_at_surface, stellar_radius"
   ]
  },
  {
   "cell_type": "code",
   "execution_count": 2,
   "metadata": {},
   "outputs": [],
   "source": [
    "figure_path = '../../tex/figures'\n",
    "os.makedirs(figure_path, exist_ok=True)"
   ]
  },
  {
   "cell_type": "code",
   "execution_count": 5,
   "metadata": {},
   "outputs": [],
   "source": [
    "c = Config.from_run_name('dr16-random')\n",
    "alldata, allvisit = c.load_alldata()"
   ]
  },
  {
   "cell_type": "code",
   "execution_count": 4,
   "metadata": {},
   "outputs": [
    {
     "name": "stdout",
     "output_type": "stream",
     "text": [
      "INFO: Upgrading Table to masked Table. Use Table.filled() to convert to unmasked table. [astropy.table.table]\n"
     ]
    }
   ],
   "source": [
    "gold = at.QTable.read('../../catalogs/gold_sample.fits')\n",
    "bimodal = at.QTable.read('../../catalogs/bimodal.fits')\n",
    "bimodal = at.QTable(bimodal[bimodal['LOGG'] > -0.5], masked=False)"
   ]
  },
  {
   "cell_type": "code",
   "execution_count": 32,
   "metadata": {},
   "outputs": [
    {
     "name": "stdout",
     "output_type": "stream",
     "text": [
      "62\n",
      "19\n",
      "16\n"
     ]
    }
   ],
   "source": [
    "low_mass = gold[(gold['m2_min_50'] < 70*u.Mjup) \n",
    "                & (gold['m2_min_50'] > 1*u.Mjup)\n",
    "                & (gold['MAP_s'] < 1.*u.km/u.s)\n",
    "                & (gold['n_visits'] > 8)\n",
    "                & (gold['MAP_e'] < 0.6)]\n",
    "print(len(low_mass))\n",
    "\n",
    "high_mass = gold[(gold['m2_min_5'] > gold['mass']*u.Msun)\n",
    "                 & (gold['MAP_s'] < 1.*u.km/u.s)\n",
    "                 & (gold['n_visits'] > 5)\n",
    "                 & (gold['MAP_e'] < 0.6)]\n",
    "print(len(high_mass))\n",
    "\n",
    "qmin = gold['m2_min_50'].value / gold['mass']\n",
    "Rstar = stellar_radius(gold['LOGG'], gold['mass']*u.Msun)\n",
    "a1sini = PeKi_to_a(gold['MAP_P'], gold['MAP_e'], gold['MAP_K'])\n",
    "asini = a1sini * (1 + 1/qmin)\n",
    "rlimit = 0.49*qmin**(-2/3.) / (0.6*qmin**(-2/3.) + np.log(1 + qmin**(-1/3)))\n",
    "roche = gold[(Rstar/asini).decompose() > rlimit]\n",
    "print(len(roche))"
   ]
  },
  {
   "cell_type": "markdown",
   "metadata": {},
   "source": [
    "## Low Mass filtering:"
   ]
  },
  {
   "cell_type": "code",
   "execution_count": 28,
   "metadata": {
    "scrolled": false
   },
   "outputs": [],
   "source": [
    "# for row in low_mass[np.argsort(low_mass['m2_min_50'])][40:]:\n",
    "#     apid = row['APOGEE_ID']\n",
    "#     with h5py.File(c.mcmc_results_path, 'r') as f:\n",
    "#         samples = tj.JokerSamples.read(f[apid])\n",
    "#         data = get_rvdata(allvisit[allvisit['APOGEE_ID'] == apid])\n",
    "        \n",
    "#         # fig, ax = plt.subplots()\n",
    "#         # _ = tj.plot_rv_curves(samples[:16], data=data, ax=ax)\n",
    "                \n",
    "#         fig, axes = plt.subplots(1, 2, figsize=(9, 4))\n",
    "        \n",
    "#         _ = tj.plot_rv_curves(samples[:128], data=data, ax=axes[0])\n",
    "        \n",
    "#         sample = samples.median()\n",
    "#         _ = tj.plot_phase_fold(sample, ax=axes[1], data=data)\n",
    "#         axes[0].set_title(f\"{row['m2_min_50'].to(u.Mjup):.2f}: {apid}\",\n",
    "#                           fontsize=15)\n",
    "#         axes[1].set_ylabel('')\n",
    "#         fig.tight_layout()\n",
    "#         print(apid)"
   ]
  },
  {
   "cell_type": "code",
   "execution_count": 30,
   "metadata": {},
   "outputs": [],
   "source": [
    "low_mass_fav_ids = [\n",
    "    '2M04394882-7514363',\n",
    "    '2M13500861+3249553',\n",
    "    '2M01083937+8550346',\n",
    "    '2M17142443-2457219'\n",
    "]"
   ]
  },
  {
   "cell_type": "markdown",
   "metadata": {},
   "source": [
    "## High mass filtering"
   ]
  },
  {
   "cell_type": "code",
   "execution_count": 37,
   "metadata": {
    "scrolled": false
   },
   "outputs": [],
   "source": [
    "# for row in high_mass[np.argsort(high_mass['m2_min_50'])]:\n",
    "#     apid = row['APOGEE_ID']\n",
    "#     with h5py.File(c.mcmc_results_path, 'r') as f:\n",
    "#         samples = tj.JokerSamples.read(f[apid])\n",
    "#         data = get_rvdata(allvisit[allvisit['APOGEE_ID'] == apid])\n",
    "                \n",
    "#         fig, axes = plt.subplots(1, 2, figsize=(9, 4))\n",
    "        \n",
    "#         _ = tj.plot_rv_curves(samples[:128], data=data, ax=axes[0])\n",
    "        \n",
    "#         sample = samples.median()\n",
    "#         _ = tj.plot_phase_fold(sample, ax=axes[1], data=data)\n",
    "#         axes[0].set_title(f\"{row['m2_min_50'].to(u.Msun):.2f}: {apid}\",\n",
    "#                           fontsize=15)\n",
    "#         axes[1].set_ylabel('')\n",
    "#         fig.tight_layout()\n",
    "#         print(apid)"
   ]
  },
  {
   "cell_type": "code",
   "execution_count": 38,
   "metadata": {},
   "outputs": [],
   "source": [
    "high_mass_fav_ids = [\n",
    "    '2M13090983+1711572',\n",
    "    '2M14332948+0958420',\n",
    "    '2M13143277+1702017',\n",
    "    '2M00574795+8502290'\n",
    "]"
   ]
  },
  {
   "cell_type": "code",
   "execution_count": null,
   "metadata": {},
   "outputs": [],
   "source": []
  },
  {
   "cell_type": "code",
   "execution_count": null,
   "metadata": {},
   "outputs": [],
   "source": []
  },
  {
   "cell_type": "code",
   "execution_count": null,
   "metadata": {},
   "outputs": [],
   "source": []
  }
 ],
 "metadata": {
  "kernelspec": {
   "display_name": "Python [conda env:hq]",
   "language": "python",
   "name": "conda-env-hq-py"
  },
  "language_info": {
   "codemirror_mode": {
    "name": "ipython",
    "version": 3
   },
   "file_extension": ".py",
   "mimetype": "text/x-python",
   "name": "python",
   "nbconvert_exporter": "python",
   "pygments_lexer": "ipython3",
   "version": "3.7.4"
  },
  "toc": {
   "base_numbering": 1,
   "nav_menu": {},
   "number_sections": true,
   "sideBar": true,
   "skip_h1_title": false,
   "title_cell": "Table of Contents",
   "title_sidebar": "Contents",
   "toc_cell": false,
   "toc_position": {},
   "toc_section_display": true,
   "toc_window_display": false
  }
 },
 "nbformat": 4,
 "nbformat_minor": 2
}
