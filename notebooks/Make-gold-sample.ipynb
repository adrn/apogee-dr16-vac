{
 "cells": [
  {
   "cell_type": "code",
   "execution_count": 416,
   "metadata": {},
   "outputs": [],
   "source": [
    "import os\n",
    "\n",
    "import astropy.table as at\n",
    "from astropy.constants import G\n",
    "import astropy.units as u\n",
    "import h5py\n",
    "import matplotlib as mpl\n",
    "import matplotlib.pyplot as plt\n",
    "%matplotlib inline\n",
    "import numpy as np\n",
    "from tqdm.notebook import tqdm\n",
    "import thejoker as tj\n",
    "import tables as tb\n",
    "\n",
    "from hq.config import Config\n",
    "from hq.data import get_rvdata\n",
    "from hq.samples_analysis import extract_MAP_sample\n",
    "\n",
    "from helpers import load_samples, fast_mf, fast_m2_min\n",
    "\n",
    "from astroquery.gaia import Gaia\n",
    "\n",
    "Gaia.login(credentials_file='/Users/apricewhelan/.gaia/archive.login')"
   ]
  },
  {
   "cell_type": "code",
   "execution_count": 2,
   "metadata": {},
   "outputs": [],
   "source": [
    "c = Config.from_run_name('dr16-random')"
   ]
  },
  {
   "cell_type": "code",
   "execution_count": 324,
   "metadata": {},
   "outputs": [],
   "source": [
    "allstar, allvisit = c.load_alldata()"
   ]
  },
  {
   "cell_type": "code",
   "execution_count": 7,
   "metadata": {},
   "outputs": [],
   "source": [
    "meta = at.Table.read('../catalogs/lnK0.0_logL4.6_metadata_gaia_starhorse.fits')"
   ]
  },
  {
   "cell_type": "code",
   "execution_count": 21,
   "metadata": {},
   "outputs": [
    {
     "data": {
      "text/html": [
       "<i>Table masked=True length=3</i>\n",
       "<table id=\"table140312845156240\" class=\"table-striped table-bordered table-condensed\">\n",
       "<thead><tr><th>APOGEE_ID</th><th>ra</th><th>dec</th></tr></thead>\n",
       "<thead><tr><th>bytes18</th><th>float64</th><th>float64</th></tr></thead>\n",
       "<tr><td>2M03002278+0028365</td><td>45.09498880429499</td><td>0.4768355362149958</td></tr>\n",
       "<tr><td>2M03014113+0050064</td><td>45.4214718613846</td><td>0.8351161990584505</td></tr>\n",
       "<tr><td>2M02595484+0037037</td><td>44.97851572442415</td><td>0.6176399905573305</td></tr>\n",
       "</table>"
      ],
      "text/plain": [
       "<Table masked=True length=3>\n",
       "    APOGEE_ID              ra               dec        \n",
       "     bytes18            float64           float64      \n",
       "------------------ ----------------- ------------------\n",
       "2M03002278+0028365 45.09498880429499 0.4768355362149958\n",
       "2M03014113+0050064  45.4214718613846 0.8351161990584505\n",
       "2M02595484+0037037 44.97851572442415 0.6176399905573305"
      ]
     },
     "execution_count": 21,
     "metadata": {},
     "output_type": "execute_result"
    }
   ],
   "source": [
    "meta['APOGEE_ID', 'ra', 'dec'][:3]"
   ]
  },
  {
   "cell_type": "code",
   "execution_count": 26,
   "metadata": {},
   "outputs": [
    {
     "name": "stdout",
     "output_type": "stream",
     "text": [
      "Sending pytable.\n",
      "Uploaded table 'dr16_binaries_real'.\n"
     ]
    }
   ],
   "source": [
    "Gaia.upload_table(upload_resource=meta['APOGEE_ID', 'ra', 'dec'], \n",
    "                  table_name='dr16_binaries_real')"
   ]
  },
  {
   "cell_type": "code",
   "execution_count": 97,
   "metadata": {},
   "outputs": [],
   "source": [
    "q = \"\"\"SELECT DISTANCE(POINT('ICRS', gaia.ra, gaia.dec), POINT('ICRS', xm.ra, xm.dec)) AS dist, \n",
    "xm.*, gaia.*\n",
    "FROM user_apricewh.dr16_binaries_real as xm, gaiadr2.gaia_source as gaia\n",
    "WHERE 1=CONTAINS(\n",
    "  POINT('ICRS', xm.ra, xm.dec),\n",
    "  CIRCLE('ICRS', gaia.ra, gaia.dec, 0.0011) \n",
    ")\"\"\" # 4 arcsec"
   ]
  },
  {
   "cell_type": "code",
   "execution_count": 98,
   "metadata": {},
   "outputs": [
    {
     "name": "stderr",
     "output_type": "stream",
     "text": [
      "WARNING: W35: None:14:0: W35: 'value' attribute required for INFO elements [astropy.io.votable.tree]\n",
      "WARNING: W35: None:16:0: W35: 'value' attribute required for INFO elements [astropy.io.votable.tree]\n",
      "WARNING: W06: None:60:0: W06: Invalid UCD 'arith.ratio': Secondary word 'arith.ratio' is not valid as a primary word [astropy.io.votable.tree]\n",
      "WARNING: W50: None:63:0: W50: Invalid unit string 'mas.yr**-1' [astropy.io.votable.tree]\n",
      "WARNING: W50: None:66:0: W50: Invalid unit string 'mas.yr**-1' [astropy.io.votable.tree]\n",
      "WARNING: W50: None:69:0: W50: Invalid unit string 'mas.yr**-1' [astropy.io.votable.tree]\n",
      "WARNING: W50: None:72:0: W50: Invalid unit string 'mas.yr**-1' [astropy.io.votable.tree]\n",
      "WARNING: W50: None:135:0: W50: Invalid unit string 'mas**-2' [astropy.io.votable.tree]\n",
      "WARNING: W50: None:138:0: W50: Invalid unit string 'um**-1' [astropy.io.votable.tree]\n",
      "WARNING: W06: None:141:0: W06: Invalid UCD 'em.wavenumber;stat.error': Primary word 'stat.error' is not valid as a secondary word [astropy.io.votable.tree]\n",
      "WARNING: W50: None:141:0: W50: Invalid unit string 'um**-1' [astropy.io.votable.tree]\n",
      "WARNING: W06: None:153:0: W06: Invalid UCD 'pos.errorEllipse;stat.max': Secondary word 'pos.errorEllipse' is not valid as a primary word [astropy.io.votable.tree]\n",
      "WARNING: W50: None:168:0: W50: Invalid unit string ''electron'.s**-1' [astropy.io.votable.tree]\n",
      "WARNING: W50: None:171:0: W50: Invalid unit string ''electron'.s**-1' [astropy.io.votable.tree]\n",
      "WARNING: W06: None:174:0: W06: Invalid UCD 'arith.ratio': Secondary word 'arith.ratio' is not valid as a primary word [astropy.io.votable.tree]\n",
      "WARNING: W50: None:183:0: W50: Invalid unit string ''electron'.s**-1' (suppressing further warnings of this type...) [astropy.io.votable.tree]\n",
      "WARNING: W06: None:189:0: W06: Invalid UCD 'arith.ratio': Secondary word 'arith.ratio' is not valid as a primary word [astropy.io.votable.tree]\n",
      "WARNING: W06: None:204:0: W06: Invalid UCD 'arith.ratio': Secondary word 'arith.ratio' is not valid as a primary word [astropy.io.votable.tree]\n",
      "WARNING: W06: None:216:0: W06: Invalid UCD 'phot.color': Unknown word 'phot.color' [astropy.io.votable.tree]\n",
      "WARNING: W06: None:219:0: W06: Invalid UCD 'phot.color': Unknown word 'phot.color' [astropy.io.votable.tree]\n",
      "WARNING: W06: None:222:0: W06: Invalid UCD 'phot.color': Unknown word 'phot.color' [astropy.io.votable.tree]\n",
      "WARNING: W06: None:294:0: W06: Invalid UCD 'phys.size.radius;stat.error': Primary word 'stat.error' is not valid as a secondary word (suppressing further warnings of this type...) [astropy.io.votable.tree]\n",
      "WARNING: W32: None:42:0: W32: Duplicate ID 'ra' renamed to 'ra_2' to ensure uniqueness [astropy.io.votable.tree]\n",
      "WARNING: W32: None:48:0: W32: Duplicate ID 'dec' renamed to 'dec_2' to ensure uniqueness [astropy.io.votable.tree]\n",
      "WARNING: W33: None:42:0: W33: Column name 'ra' renamed to 'ra 2' to ensure uniqueness [astropy.io.votable.tree]\n",
      "WARNING: W33: None:48:0: W33: Column name 'dec' renamed to 'dec 2' to ensure uniqueness [astropy.io.votable.tree]\n"
     ]
    },
    {
     "name": "stdout",
     "output_type": "stream",
     "text": [
      "INFO: Query finished. [astroquery.utils.tap.core]\n"
     ]
    }
   ],
   "source": [
    "job = Gaia.launch_job_async(q, name='dr16_binaries')"
   ]
  },
  {
   "cell_type": "code",
   "execution_count": 99,
   "metadata": {},
   "outputs": [],
   "source": [
    "xm_tbl = job.get_results()\n",
    "\n",
    "remove_cols = []\n",
    "for col in xm_tbl.colnames:\n",
    "    if xm_tbl[col].dtype == object:\n",
    "        remove_cols.append(col)\n",
    "xm_tbl.remove_columns(remove_cols)\n",
    "\n",
    "xm_tbl.rename_column('apogee_id', 'APOGEE_ID')\n",
    "xm_tbl['APOGEE_ID'] = xm_tbl['APOGEE_ID'].astype(str)"
   ]
  },
  {
   "cell_type": "code",
   "execution_count": 100,
   "metadata": {},
   "outputs": [],
   "source": [
    "xm_tbl.write('../catalogs/dr16_binaries_gaia_xmatch.fits', overwrite=True)"
   ]
  },
  {
   "cell_type": "code",
   "execution_count": 101,
   "metadata": {},
   "outputs": [],
   "source": [
    "df = xm_tbl.to_pandas()"
   ]
  },
  {
   "cell_type": "code",
   "execution_count": 102,
   "metadata": {},
   "outputs": [],
   "source": [
    "grouped = df.groupby('APOGEE_ID')"
   ]
  },
  {
   "cell_type": "code",
   "execution_count": 114,
   "metadata": {},
   "outputs": [],
   "source": [
    "has_nearby_stars_ids = df[df['APOGEE_ID'].groupby(df['APOGEE_ID']).transform('size') > 1]['APOGEE_ID']"
   ]
  },
  {
   "cell_type": "code",
   "execution_count": 115,
   "metadata": {},
   "outputs": [
    {
     "data": {
      "text/plain": [
       "(17682, 5645)"
      ]
     },
     "execution_count": 115,
     "metadata": {},
     "output_type": "execute_result"
    }
   ],
   "source": [
    "len(meta), len(has_nearby_stars_ids)"
   ]
  },
  {
   "cell_type": "code",
   "execution_count": 116,
   "metadata": {},
   "outputs": [],
   "source": [
    "has_nearby_meta = meta[np.isin(meta['APOGEE_ID'].astype(str), has_nearby_stars_ids)]"
   ]
  },
  {
   "cell_type": "code",
   "execution_count": 117,
   "metadata": {},
   "outputs": [
    {
     "data": {
      "application/vnd.jupyter.widget-view+json": {
       "model_id": "a66a42455d2a407aab6d045f47a1f8e4",
       "version_major": 2,
       "version_minor": 0
      },
      "text/plain": [
       "HBox(children=(IntProgress(value=0, max=2381), HTML(value='')))"
      ]
     },
     "metadata": {},
     "output_type": "display_data"
    },
    {
     "name": "stdout",
     "output_type": "stream",
     "text": [
      "\n"
     ]
    }
   ],
   "source": [
    "reject_ids = []\n",
    "for row in tqdm(has_nearby_meta):\n",
    "    xm_rows = xm_tbl[xm_tbl['APOGEE_ID'] == str(row['APOGEE_ID'])]\n",
    "    dG = row['phot_g_mean_mag'] - xm_rows['phot_g_mean_mag']\n",
    "    check1 = np.any((xm_rows['dist']*u.deg < 2*u.arcsec) & (dG > -5) & (dG != 0))\n",
    "    check2 = np.any((xm_rows['dist']*u.deg < 4*u.arcsec) & (dG > 2.5) & (dG != 0))\n",
    "    \n",
    "    if check1 or check2:\n",
    "        reject_ids.append(row['APOGEE_ID'])"
   ]
  },
  {
   "cell_type": "code",
   "execution_count": 119,
   "metadata": {},
   "outputs": [
    {
     "data": {
      "text/plain": [
       "601"
      ]
     },
     "execution_count": 119,
     "metadata": {},
     "output_type": "execute_result"
    }
   ],
   "source": [
    "len(reject_ids)"
   ]
  },
  {
   "cell_type": "markdown",
   "metadata": {},
   "source": [
    "## Find bimodal samplings:"
   ]
  },
  {
   "cell_type": "code",
   "execution_count": 316,
   "metadata": {},
   "outputs": [],
   "source": [
    "from hq.samples_analysis import is_n_modal"
   ]
  },
  {
   "cell_type": "code",
   "execution_count": 350,
   "metadata": {},
   "outputs": [
    {
     "data": {
      "application/vnd.jupyter.widget-view+json": {
       "model_id": "54703840d6794230b6de5a7fe4495e18",
       "version_major": 2,
       "version_minor": 0
      },
      "text/plain": [
       "HBox(children=(IntProgress(value=0, max=17682), HTML(value='')))"
      ]
     },
     "metadata": {},
     "output_type": "display_data"
    },
    {
     "name": "stdout",
     "output_type": "stream",
     "text": [
      "\n"
     ]
    }
   ],
   "source": [
    "bimodal_mask = np.zeros(len(meta), dtype=bool)\n",
    "bimodal_modes = {}\n",
    "bimodal_mode_fractions = {}\n",
    "for n, row in enumerate(tqdm(meta)):\n",
    "    if row['unimodal']:\n",
    "        continue\n",
    "        \n",
    "    samples = load_samples(c, row)\n",
    "    data = get_rvdata(allvisit[allvisit['APOGEE_ID'] == row['APOGEE_ID']])\n",
    "    bimodal, modes, n_per_mode = is_n_modal(data, samples, n_clusters=2)\n",
    "    bimodal_mask[n] = bimodal\n",
    "    \n",
    "    if bimodal:\n",
    "        bimodal_modes[row['APOGEE_ID']] = modes\n",
    "        bimodal_mode_fractions[row['APOGEE_ID']] = np.array(n_per_mode) / sum(n_per_mode)"
   ]
  },
  {
   "cell_type": "code",
   "execution_count": 353,
   "metadata": {},
   "outputs": [
    {
     "data": {
      "text/plain": [
       "551"
      ]
     },
     "execution_count": 353,
     "metadata": {},
     "output_type": "execute_result"
    }
   ],
   "source": [
    "bimodal_mask.sum()"
   ]
  },
  {
   "cell_type": "code",
   "execution_count": 380,
   "metadata": {},
   "outputs": [
    {
     "data": {
      "application/vnd.jupyter.widget-view+json": {
       "model_id": "f9f108ed251940ce9ccab1c0bdac95ee",
       "version_major": 2,
       "version_minor": 0
      },
      "text/plain": [
       "HBox(children=(IntProgress(value=0, max=551), HTML(value='')))"
      ]
     },
     "metadata": {},
     "output_type": "display_data"
    },
    {
     "name": "stdout",
     "output_type": "stream",
     "text": [
      "\n"
     ]
    }
   ],
   "source": [
    "rows = []\n",
    "units = dict()\n",
    "for apid in tqdm(bimodal_modes.keys()):\n",
    "    for samples, frac in zip(bimodal_modes[apid],\n",
    "                             bimodal_mode_fractions[apid]):\n",
    "        row = {'APOGEE_ID': apid}\n",
    "        \n",
    "        if len(samples) == 1:\n",
    "            MAP_sample = samples\n",
    "        else:\n",
    "            MAP_idx = (samples['ln_prior'] + samples['ln_likelihood']).argmax()\n",
    "            MAP_sample = samples[MAP_idx]\n",
    "            \n",
    "        for k in MAP_sample.par_names:\n",
    "            row['MAP_' + k] = MAP_sample[k].value\n",
    "            units['MAP_' + k] = MAP_sample[k].unit\n",
    "        row['t0_bmjd'] = MAP_sample.t0.tcb.mjd\n",
    "        row['bimodal_mode_fraction'] = frac\n",
    "        \n",
    "        rows.append(row)\n",
    "        \n",
    "tbl = at.QTable(rows)\n",
    "for k in units:\n",
    "    tbl[k] = tbl[k] * units[k]"
   ]
  },
  {
   "cell_type": "code",
   "execution_count": 437,
   "metadata": {},
   "outputs": [
    {
     "data": {
      "application/vnd.jupyter.widget-view+json": {
       "model_id": "9b574043945647a0baa27f5c09834314",
       "version_major": 2,
       "version_minor": 0
      },
      "text/plain": [
       "HBox(children=(IntProgress(value=0, max=1102), HTML(value='')))"
      ]
     },
     "metadata": {},
     "output_type": "display_data"
    },
    {
     "name": "stdout",
     "output_type": "stream",
     "text": [
      "\n"
     ]
    }
   ],
   "source": [
    "bimodal = at.join(tbl, meta, keys='APOGEE_ID', \n",
    "                  uniq_col_name='{table_name}{col_name}', \n",
    "                  table_names=['', 'meta_'])\n",
    "\n",
    "# recompute m2_mins\n",
    "percentiles = [1, 5, 16, 50, 84, 95, 99]\n",
    "for row in tqdm(bimodal):\n",
    "    sample = extract_MAP_sample(row)\n",
    "    mf = fast_mf(sample['P'], sample['K'], sample['e'])\n",
    "    m1s = np.random.normal(row['mass'], row['mass_err'], size=1000)\n",
    "    m2_mins = fast_m2_min(m1s, mf.value)\n",
    "    for pp in percentiles:\n",
    "        row[f'm2_min_{pp}'] = np.percentile(m2_mins, pp) * u.Msun\n",
    "\n",
    "bimodal.write('../catalogs/bimodal.fits', overwrite=True)"
   ]
  },
  {
   "cell_type": "markdown",
   "metadata": {},
   "source": [
    "---"
   ]
  },
  {
   "cell_type": "code",
   "execution_count": 279,
   "metadata": {},
   "outputs": [
    {
     "data": {
      "text/plain": [
       "1032"
      ]
     },
     "execution_count": 279,
     "metadata": {},
     "output_type": "execute_result"
    }
   ],
   "source": [
    "llr = meta['max_unmarginalized_ln_likelihood'] - meta['robust_constant_ln_likelihood']\n",
    "gold = meta[~np.isin(meta['APOGEE_ID'].astype(str), reject_ids)\n",
    "            & (meta['LOGG'] > -0.5) & (meta['LOGG'] < 5.5)\n",
    "            & (meta['TEFF'] > 3500) & (meta['TEFF'] < 8000)\n",
    "            & (meta['M_H'] > -2.5) & (meta['M_H'] < 0.5)\n",
    "            & (meta['ALPHA_M'] > -2.) & (meta['ALPHA_M'] < 2.)\n",
    "            & (meta['MAP_s'] < 0.5)\n",
    "            & (meta['n_visits'] > 5)\n",
    "            & (llr > 25)\n",
    "            # & ((meta['ASPCAPFLAG'] & 2**7) == 0)\n",
    "            # & (meta['phase_coverage'] > 0.5)\n",
    "            # & (meta['periods_spanned'] > 1.)\n",
    "            # & (meta['max_phase_gap'] < 0.5)]\n",
    "           ]\n",
    "gold = gold[gold['mcmc_success']]\n",
    "\n",
    "len(gold)"
   ]
  },
  {
   "cell_type": "code",
   "execution_count": 438,
   "metadata": {},
   "outputs": [],
   "source": [
    "gold.write('../catalogs/gold_sample.fits', overwrite=True)"
   ]
  },
  {
   "cell_type": "markdown",
   "metadata": {},
   "source": [
    "---"
   ]
  },
  {
   "cell_type": "code",
   "execution_count": 287,
   "metadata": {},
   "outputs": [
    {
     "data": {
      "image/png": "[encoded data removed]",
      "text/plain": [
       "<Figure size 432x288 with 1 Axes>"
      ]
     },
     "metadata": {
      "image/png": {
       "height": 252,
       "width": 373
      },
      "needs_background": "light"
     },
     "output_type": "display_data"
    }
   ],
   "source": [
    "plt.hist(gold['m2_min_50'] / gold['mass'], \n",
    "         bins=np.linspace(0, 1., 32));"
   ]
  },
  {
   "cell_type": "code",
   "execution_count": null,
   "metadata": {},
   "outputs": [],
   "source": [
    "sub_gold = gold[gold['LOGG'] > 3.5]"
   ]
  },
  {
   "cell_type": "code",
   "execution_count": 301,
   "metadata": {},
   "outputs": [],
   "source": [
    "bin_edges = np.array([3500, 5200, 6000, 7500])\n",
    "bin_ctr = 0.5 * (bin_edges[:-1] + bin_edges[1:])\n",
    "bin_idx = np.digitize(sub_gold['TEFF'], bin_edges)"
   ]
  },
  {
   "cell_type": "code",
   "execution_count": 304,
   "metadata": {
    "scrolled": false
   },
   "outputs": [
    {
     "data": {
      "image/png": "[encoded data removed]",
      "text/plain": [
       "<Figure size 432x288 with 1 Axes>"
      ]
     },
     "metadata": {
      "image/png": {
       "height": 252,
       "width": 378
      },
      "needs_background": "light"
     },
     "output_type": "display_data"
    },
    {
     "data": {
      "image/png": "[encoded data removed]",
      "text/plain": [
       "<Figure size 432x288 with 1 Axes>"
      ]
     },
     "metadata": {
      "image/png": {
       "height": 252,
       "width": 378
      },
      "needs_background": "light"
     },
     "output_type": "display_data"
    },
    {
     "data": {
      "image/png": "[encoded data removed]",
      "text/plain": [
       "<Figure size 432x288 with 1 Axes>"
      ]
     },
     "metadata": {
      "image/png": {
       "height": 252,
       "width": 378
      },
      "needs_background": "light"
     },
     "output_type": "display_data"
    }
   ],
   "source": [
    "q_bins = np.linspace(0, 1, 16)\n",
    "for i in np.arange(1, len(bin_ctr)+1):\n",
    "    gold_bin = sub_gold[bin_idx == i]\n",
    "    plt.figure()\n",
    "    plt.hist(gold_bin['m2_min_50'] / gold_bin['mass'], \n",
    "             bins=q_bins, density=True)"
   ]
  },
  {
   "cell_type": "code",
   "execution_count": null,
   "metadata": {},
   "outputs": [],
   "source": []
  },
  {
   "cell_type": "code",
   "execution_count": 272,
   "metadata": {
    "scrolled": false
   },
   "outputs": [],
   "source": [
    "# for row in gold[(gold['MAP_P'] < 10) & \n",
    "#                 (gold['LOGG'] > 4) & \n",
    "#                 (gold['MAP_e'] > 0.5)][:10]:\n",
    "#     apid = row['APOGEE_ID']\n",
    "#     with h5py.File(c.mcmc_results_path, 'r') as f:\n",
    "#         samples = tj.JokerSamples.read(f[apid])\n",
    "#         data = get_rvdata(allvisit[allvisit['APOGEE_ID'] == apid])\n",
    "        \n",
    "#         fig, ax = plt.subplots()\n",
    "#         _ = tj.plot_rv_curves(samples[:10], data=data, ax=ax)\n",
    "        \n",
    "#         llr = row['max_unmarginalized_ln_likelihood'] - row['robust_constant_ln_likelihood']\n",
    "#         ax.set_title(f\"{row['STARFLAGS']}\\n{row['ASPCAPFLAGS']}\\n{row['APOGEE_ID']}: {llr:.2f}\", \n",
    "#                      fontsize=12)\n",
    "#         print(row['APOGEE_ID'])"
   ]
  },
  {
   "cell_type": "code",
   "execution_count": 140,
   "metadata": {},
   "outputs": [],
   "source": [
    "# for apid in gold[(gold['MAP_P'] < 100) & (gold['LOGG'] < 1.5)]['APOGEE_ID'][:10]:\n",
    "#     with h5py.File(c.mcmc_results_path, 'r') as f:\n",
    "#         samples = tj.JokerSamples.read(f[apid])\n",
    "#         data = get_rvdata(allvisit[allvisit['APOGEE_ID'] == apid])\n",
    "        \n",
    "#         fig, ax = plt.subplots()\n",
    "#         _ = tj.plot_rv_curves(samples[:10], data=data, ax=ax)"
   ]
  },
  {
   "cell_type": "code",
   "execution_count": null,
   "metadata": {},
   "outputs": [],
   "source": []
  }
 ],
 "metadata": {
  "kernelspec": {
   "display_name": "Python [conda env:hq]",
   "language": "python",
   "name": "conda-env-hq-py"
  },
  "language_info": {
   "codemirror_mode": {
    "name": "ipython",
    "version": 3
   },
   "file_extension": ".py",
   "mimetype": "text/x-python",
   "name": "python",
   "nbconvert_exporter": "python",
   "pygments_lexer": "ipython3",
   "version": "3.7.4"
  },
  "toc": {
   "base_numbering": 1,
   "nav_menu": {},
   "number_sections": true,
   "sideBar": true,
   "skip_h1_title": false,
   "title_cell": "Table of Contents",
   "title_sidebar": "Contents",
   "toc_cell": false,
   "toc_position": {},
   "toc_section_display": true,
   "toc_window_display": false
  }
 },
 "nbformat": 4,
 "nbformat_minor": 2
}
